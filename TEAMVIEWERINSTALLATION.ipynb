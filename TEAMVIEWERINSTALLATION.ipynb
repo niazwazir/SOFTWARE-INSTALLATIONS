{
  "nbformat": 4,
  "nbformat_minor": 0,
  "metadata": {
    "colab": {
      "name": "TEAMVIEWERINSTALLATION.ipynb",
      "version": "0.3.2",
      "provenance": []
    },
    "kernelspec": {
      "name": "python3",
      "display_name": "Python 3"
    }
  },
  "cells": [
    {
      "cell_type": "code",
      "metadata": {
        "id": "BNf6rW302I-U",
        "colab_type": "code",
        "colab": {}
      },
      "source": [
        "#TEAM VIEWER INSTALLATION IN UBUNTU 16\n",
        "wget https://download.teamviewer.com/download/linux/teamviewer_amd64.deb\n",
        "sudo apt install ./teamviewer_amd64.deb"
      ],
      "execution_count": 0,
      "outputs": []
    }
  ]
}